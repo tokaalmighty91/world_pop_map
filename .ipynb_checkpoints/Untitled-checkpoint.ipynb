{
 "cells": [
  {
   "cell_type": "raw",
   "metadata": {
    "code_folding": []
   },
   "source": [
    "import folium\n",
    "import pandas\n",
    "data=pandas.read_csv('Volcanoes_USA.txt')\n",
    "df=data.loc[:,'LAT':'LON']\n",
    "coord_lst=df.values.tolist()\n",
    "names=list(data['NAME'])\n",
    "for coord,name in zip(coord_lst,names):\n",
    "    print (type(name))\n",
    "    "
   ]
  },
  {
   "cell_type": "code",
   "execution_count": 26,
   "metadata": {},
   "outputs": [],
   "source": [
    "import folium\n",
    "import pandas\n",
    "data=pandas.read_csv('Volcanoes_USA.txt')\n",
    "df=data.loc[:,'LAT':'LON']\n",
    "coord_lst=df.values.tolist()\n",
    "names=list(data['NAME'])\n"
   ]
  },
  {
   "cell_type": "code",
   "execution_count": 27,
   "metadata": {},
   "outputs": [
    {
     "data": {
      "text/plain": [
       "0                       Baker\n",
       "1                Glacier Peak\n",
       "2                     Rainier\n",
       "3                  St. Helens\n",
       "4                       Adams\n",
       "5                 West Crater\n",
       "6               Indian Heaven\n",
       "7                        Hood\n",
       "8                   Jefferson\n",
       "9            Blue Lake Crater\n",
       "10        Sand Mountain Field\n",
       "11                 Washington\n",
       "12                    Belknap\n",
       "13         North Sister Field\n",
       "14               South Sister\n",
       "15                   Bachelor\n",
       "16           Newberry Volcano\n",
       "17                 Davis Lake\n",
       "18              Devils Garden\n",
       "19             Cinnamon Butte\n",
       "20     Squaw Ridge Lava Field\n",
       "21    Four Craters Lava Field\n",
       "22                Crater Lake\n",
       "23                Yellowstone\n",
       "24            Diamond Craters\n",
       "25             Jordan Craters\n",
       "26               Saddle Butte\n",
       "27        Craters of the Moon\n",
       "28           Hell's Half Acre\n",
       "29        Shoshone Lava Field\n",
       "               ...           \n",
       "32            Wapi Lava Field\n",
       "33                     Shasta\n",
       "34               Brushy Butte\n",
       "35                   Big Cave\n",
       "36                Twin Buttes\n",
       "37              Tumble Buttes\n",
       "38           Eagle Lake Field\n",
       "39         Lassen Volc Center\n",
       "40                 Clear Lake\n",
       "41          Steamboat Springs\n",
       "42                    Dotsero\n",
       "43       Mono Lake Volc Field\n",
       "44          Black Rock Desert\n",
       "45               Mono Craters\n",
       "46               Inyo Craters\n",
       "47                Long Valley\n",
       "48                  Red Cones\n",
       "49            Ubehebe Craters\n",
       "50          Markagunt Plateau\n",
       "51                Santa Clara\n",
       "52                 Bald Knoll\n",
       "53         Golden Trout Creek\n",
       "54            Coso Volc Field\n",
       "55             Uinkaret Field\n",
       "56                 Lavic Lake\n",
       "57             Valles Caldera\n",
       "58              Sunset Crater\n",
       "59                      Amboy\n",
       "60               Zuni-Bandera\n",
       "61                  Carrizozo\n",
       "Name: NAME, Length: 62, dtype: object"
      ]
     },
     "execution_count": 27,
     "metadata": {},
     "output_type": "execute_result"
    }
   ],
   "source": [
    "data"
   ]
  },
  {
   "cell_type": "raw",
   "metadata": {},
   "source": [
    "data['NAME']"
   ]
  }
 ],
 "metadata": {
  "kernelspec": {
   "display_name": "Python 3",
   "language": "python",
   "name": "python3"
  },
  "language_info": {
   "codemirror_mode": {
    "name": "ipython",
    "version": 3
   },
   "file_extension": ".py",
   "mimetype": "text/x-python",
   "name": "python",
   "nbconvert_exporter": "python",
   "pygments_lexer": "ipython3",
   "version": "3.6.3"
  }
 },
 "nbformat": 4,
 "nbformat_minor": 2
}
